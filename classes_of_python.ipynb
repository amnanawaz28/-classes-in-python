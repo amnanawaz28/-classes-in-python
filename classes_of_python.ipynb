{
 "cells": [
  {
   "cell_type": "code",
   "execution_count": 1,
   "id": "6e6b1562",
   "metadata": {},
   "outputs": [
    {
     "name": "stdout",
     "output_type": "stream",
     "text": [
      "Area of Circle: 78.53981633974483\n",
      "Area of Rectangle: 24\n",
      "Area of Triangle: 6.0\n"
     ]
    }
   ],
   "source": [
    "#question 9\n",
    "\n",
    "import math\n",
    "\n",
    "class Shape:\n",
    "    def area(self):\n",
    "        raise NotImplementedError(\"Subclass must implement the area method\")\n",
    "\n",
    "class Circle(Shape):\n",
    "    def __init__(self, radius):\n",
    "        self.radius = radius\n",
    "    \n",
    "    def area(self):\n",
    "        return math.pi * self.radius ** 2\n",
    "\n",
    "class Rectangle(Shape):\n",
    "    def __init__(self, length, width):\n",
    "        self.length = length\n",
    "        self.width = width\n",
    "    \n",
    "    def area(self):\n",
    "        return self.length * self.width\n",
    "class Triangle(Shape):\n",
    "    def __init__(self, base, height):\n",
    "        self.base = base\n",
    "        self.height = height\n",
    "    \n",
    "    def area(self):\n",
    "        return 0.5 * self.base * self.height\n",
    "circle = Circle(5)\n",
    "rectangle = Rectangle(4, 6)  \n",
    "triangle = Triangle(4, 3)  \n",
    "print(f\"Area of Circle: {circle.area()}\")\n",
    "print(f\"Area of Rectangle: {rectangle.area()}\")\n",
    "print(f\"Area of Triangle: {triangle.area()}\")"
   ]
  },
  {
   "cell_type": "code",
   "execution_count": 2,
   "id": "dfe17bb2",
   "metadata": {},
   "outputs": [
    {
     "name": "stdout",
     "output_type": "stream",
     "text": [
      "Buddy says Woof\n",
      "Whiskers says Meow\n",
      "Daisy says Moo\n"
     ]
    }
   ],
   "source": [
    "#question 10\n",
    "class Animal:\n",
    "    def __init__(self, name, sound):\n",
    "        self.name = name  \n",
    "        self.sound = sound  \n",
    "    \n",
    "    def make_sound(self):\n",
    "        print(f\"{self.name} says {self.sound}\")\n",
    "class Dog(Animal):\n",
    "    def __init__(self, name):\n",
    "        super().__init__(name, \"Woof\")\n",
    "\n",
    "class Cat(Animal):\n",
    "    def __init__(self, name):\n",
    "        super().__init__(name, \"Meow\")  \n",
    "\n",
    "class Cow(Animal):\n",
    "    def __init__(self, name):\n",
    "        super().__init__(name, \"Moo\")  \n",
    "\n",
    "# Example usage\n",
    "dog = Dog(\"Buddy\")\n",
    "cat = Cat(\"Whiskers\")\n",
    "cow = Cow(\"Daisy\")\n",
    "\n",
    "dog.make_sound()  \n",
    "cat.make_sound() \n",
    "cow.make_sound()  "
   ]
  },
  {
   "cell_type": "code",
   "execution_count": null,
   "id": "7327f347",
   "metadata": {},
   "outputs": [],
   "source": []
  }
 ],
 "metadata": {
  "kernelspec": {
   "display_name": "Python 3 (ipykernel)",
   "language": "python",
   "name": "python3"
  },
  "language_info": {
   "codemirror_mode": {
    "name": "ipython",
    "version": 3
   },
   "file_extension": ".py",
   "mimetype": "text/x-python",
   "name": "python",
   "nbconvert_exporter": "python",
   "pygments_lexer": "ipython3",
   "version": "3.11.5"
  }
 },
 "nbformat": 4,
 "nbformat_minor": 5
}
